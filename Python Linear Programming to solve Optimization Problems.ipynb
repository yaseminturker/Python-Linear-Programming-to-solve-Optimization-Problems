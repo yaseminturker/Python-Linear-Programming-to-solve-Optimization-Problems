{
 "cells": [
  {
   "cell_type": "markdown",
   "id": "78c3ce11",
   "metadata": {},
   "source": [
    " # <p style=\"background-color:#C71585;font-family:Georgia;font-size:150%;color:white;text-align:center;border-radius:20px 20px;\"><b>Python Linear Programming to solve Optimization Problems</b></p>"
   ]
  },
  {
   "attachments": {
    "image-2.png": {
     "image/png": "[encoded data removed]"
    }
   },
   "cell_type": "markdown",
   "id": "b81585b1",
   "metadata": {},
   "source": [
    "## Problem:\n",
    "\n",
    "The advertising alternatives for a company include television, newspaper and radio advertisements. The cost for each medium with their audience coverage is given below. \n",
    "\n",
    "![image-2.png](attachment:image-2.png)\n",
    "\n",
    "The local newspaper limits the number of advertisements from a single company to ten. \n",
    "\n",
    "Moreover, in order to balance the advertising among the three types of media, no more than half of the total number of advertisements should occur on the radio. And at least 10% should occur on television. \n",
    "\n",
    "The weekly advertising budget is Rs. 18,200. \n",
    "\n",
    "How many advertisements should be run in each of the three types of media to maximize the total audience?\n",
    "\n",
    "[Source](https://upscfever.com/upsc-fever/en/gatecse/en-gatecse-chp13.html#:~:text=Example%3A%20A%20farmer%20has%20recently,and%20Barley%20can%20be%20sold.)"
   ]
  },
  {
   "cell_type": "markdown",
   "id": "101d43bc",
   "metadata": {},
   "source": [
    "# <p style=\"background-color:#C71585;font-family:Georgia;color:white;text-align:left;border-radius:20px 20px;\"><b>Import Libraries and Define the Model</b></p>\n"
   ]
  },
  {
   "cell_type": "code",
   "execution_count": 1,
   "id": "9b95aa99",
   "metadata": {},
   "outputs": [],
   "source": [
    "#!pip install cplex\n",
    "#!pip install docplex"
   ]
  },
  {
   "cell_type": "code",
   "execution_count": 1,
   "id": "a5520b9f",
   "metadata": {},
   "outputs": [],
   "source": [
    "from docplex.mp.model import Model"
   ]
  },
  {
   "cell_type": "code",
   "execution_count": 2,
   "id": "884699c2",
   "metadata": {},
   "outputs": [],
   "source": [
    "Model_LP= Model(name=\"Advertisements\")"
   ]
  },
  {
   "cell_type": "markdown",
   "id": "1d86cb9a",
   "metadata": {},
   "source": [
    "# <p style=\"background-color:#C71585;font-family:Georgia;color:white;text-align:left;border-radius:20px 20px;\"><b>Decision Variables</b></p>"
   ]
  },
  {
   "cell_type": "markdown",
   "id": "8d08a8fd",
   "metadata": {},
   "source": [
    "**Step 1: Identify the decision variables**\n",
    "\n",
    "\n",
    "Let X1, X2 and X3 represent the number of advertisements in television, newspaper, and radio, respectively."
   ]
  },
  {
   "cell_type": "code",
   "execution_count": 3,
   "id": "be45ceff",
   "metadata": {},
   "outputs": [],
   "source": [
    "X1= Model_LP.continuous_var(name=\"television\")\n",
    "X2= Model_LP.continuous_var(name=\"newspaper\")\n",
    "X3= Model_LP.continuous_var(name=\"radio\")"
   ]
  },
  {
   "cell_type": "code",
   "execution_count": 4,
   "id": "bbf9d500",
   "metadata": {},
   "outputs": [],
   "source": [
    "#constants for constraints\n",
    "cost_television= 2000\n",
    "cost_newspaper= 600\n",
    "cost_radio= 300\n",
    "\n",
    "\n",
    "#constants for obj. function\n",
    "audience_television= 100000\n",
    "audience_newspaper= 40000\n",
    "audience_radio= 18000"
   ]
  },
  {
   "cell_type": "markdown",
   "id": "6520e127",
   "metadata": {},
   "source": [
    "# <p style=\"background-color:#C71585;font-family:Georgia;color:white;text-align:left;border-radius:20px 20px;\"><b>Constraints</b></p>"
   ]
  },
  {
   "cell_type": "markdown",
   "id": "bcc7b7c2",
   "metadata": {},
   "source": [
    "**Step 2: Writing the constraints**\n",
    "\n",
    "\n",
    "The constraints\n",
    "\n",
    "\n",
    "- 2000X1 + 600X2 + 300X3 ≤ 18,200\n",
    "\n",
    "- X2 ≤ 10\n",
    "\n",
    "- X3 ≤ 0.5( X1 + X2 + X3 )\n",
    "\n",
    "- X1 ≥ 0.1( X1 + X2 + X3 )"
   ]
  },
  {
   "cell_type": "code",
   "execution_count": 5,
   "id": "435411b6",
   "metadata": {},
   "outputs": [
    {
     "data": {
      "text/plain": [
       "docplex.mp.LinearConstraint[](0.100television+0.100newspaper+0.100radio,LE,television)"
      ]
     },
     "execution_count": 5,
     "metadata": {},
     "output_type": "execute_result"
    }
   ],
   "source": [
    "Model_LP.add_constraint(Model_LP.sum([cost_television*X1, cost_newspaper*X2, cost_radio*X3])<=18200)\n",
    "Model_LP.add_constraint(X2<=10)\n",
    "Model_LP.add_constraint(0.5*(Model_LP.sum([X1, X2, X3]))>=X3)\n",
    "Model_LP.add_constraint(0.1*(Model_LP.sum([X1, X2, X3]))<=X1)"
   ]
  },
  {
   "cell_type": "markdown",
   "id": "994060ef",
   "metadata": {},
   "source": [
    "# <p style=\"background-color:#C71585;font-family:Georgia;color:white;text-align:left;border-radius:20px 20px;\"><b>Objectives/Goals</b></p>\n"
   ]
  },
  {
   "cell_type": "markdown",
   "id": "40cab096",
   "metadata": {},
   "source": [
    "**Step 3: Write the objective function**\n",
    "\n",
    "\n",
    "The objective function is \n",
    "\n",
    "Maximize Z = 100,000X1 + 40,000X2 + 18,000X3"
   ]
  },
  {
   "cell_type": "code",
   "execution_count": 6,
   "id": "52bb5a1d",
   "metadata": {},
   "outputs": [],
   "source": [
    "Model_LP.maximize(audience_television*X1 + audience_newspaper*X2 + audience_radio*X3)"
   ]
  },
  {
   "cell_type": "markdown",
   "id": "0f49baba",
   "metadata": {},
   "source": [
    "# <p style=\"background-color:#C71585;font-family:Georgia;color:white;text-align:left;border-radius:20px 20px;\"><b>Model Summary</b></p>\n"
   ]
  },
  {
   "cell_type": "code",
   "execution_count": 7,
   "id": "efad655e",
   "metadata": {},
   "outputs": [
    {
     "name": "stdout",
     "output_type": "stream",
     "text": [
      "Model: Advertisements\n",
      " - number of variables: 3\n",
      "   - binary=0, integer=0, continuous=3\n",
      " - number of constraints: 4\n",
      "   - linear=4\n",
      " - parameters: defaults\n",
      " - objective: maximize\n",
      " - problem type is: LP\n"
     ]
    }
   ],
   "source": [
    "Model_LP.print_information()"
   ]
  },
  {
   "cell_type": "markdown",
   "id": "71a0978f",
   "metadata": {},
   "source": [
    "# <p style=\"background-color:#C71585;font-family:Georgia;color:white;text-align:left;border-radius:20px 20px;\"><b>Solving...</b></p>\n",
    " "
   ]
  },
  {
   "cell_type": "code",
   "execution_count": 8,
   "id": "1fd8e7cc",
   "metadata": {},
   "outputs": [],
   "source": [
    "sol= Model_LP.solve()"
   ]
  },
  {
   "cell_type": "code",
   "execution_count": 9,
   "id": "7679f02c",
   "metadata": {},
   "outputs": [
    {
     "name": "stdout",
     "output_type": "stream",
     "text": [
      "solution for: Advertisements\n",
      "objective: 1052000.000\n",
      "television = 4.000\n",
      "newspaper = 10.000\n",
      "radio = 14.000\n"
     ]
    }
   ],
   "source": [
    "sol.display()"
   ]
  },
  {
   "cell_type": "code",
   "execution_count": 10,
   "id": "b2b3770f",
   "metadata": {},
   "outputs": [
    {
     "name": "stdout",
     "output_type": "stream",
     "text": [
      "objective: 1052000.000\n",
      "  television=4.000\n",
      "  newspaper=10.000\n",
      "  radio=14.000\n"
     ]
    }
   ],
   "source": [
    "#other method\n",
    "Model_LP.print_solution()"
   ]
  },
  {
   "cell_type": "code",
   "execution_count": 11,
   "id": "aa34dc50",
   "metadata": {},
   "outputs": [
    {
     "name": "stdout",
     "output_type": "stream",
     "text": [
      "Version identifier: 22.1.0.0 | 2022-03-25 | 54982fbec\n",
      "CPXPARAM_Read_DataCheck                          1\n",
      "CPXPARAM_LPMethod                                4\n",
      "Tried aggregator 1 time.\n",
      "LP Presolve eliminated 3 rows and 2 columns.\n",
      "Aggregator did 1 substitutions.\n",
      "All rows and columns eliminated.\n",
      "Presolve time = 0.01 sec. (0.00 ticks)\n",
      "Parallel mode: deterministic, using up to 4 threads for concurrent optimization:\n",
      " * Starting dual Simplex on 1 thread...\n",
      " * Starting primal Simplex on 1 thread...\n",
      "\n",
      "Dual simplex solved model.\n",
      "\n",
      "\n",
      "Total time on 4 threads = 0.03 sec. (0.01 ticks)\n"
     ]
    },
    {
     "data": {
      "text/plain": [
       "docplex.mp.solution.SolveSolution(obj=1.052e+06,values={television:4,new.."
      ]
     },
     "execution_count": 11,
     "metadata": {},
     "output_type": "execute_result"
    }
   ],
   "source": [
    "Model_LP.parameters.lpmethod = 4\n",
    "Model_LP.solve(log_output=True)"
   ]
  },
  {
   "cell_type": "markdown",
   "id": "8839cad1",
   "metadata": {},
   "source": [
    "<div style=\"color:white; font-size:125%; text-align:left; display:fill; border-radius:5px; background-color:#C71585; overflow:hidden\">Thanks for reading. I hope you enjoy it and that it was helpful to you.<br>Please don't forget to follow me and give an upvote on</br>\n",
    "👇👇👇\n",
    "</div>\n",
    "\n",
    "**<a href=\"https://www.kaggle.com/drindeng/\" target=\"_blank\" rel=\"noopener noreferrer\">[Kaggle]</a> | \n",
    "<a href=\"https://github.com/drindeng\" target=\"_blank\" rel=\"noopener noreferrer\">[GitHub]</a> |\n",
    "<a href=\"https://www.linkedin.com/in/turgay-turker/\" target=\"_blank\" rel=\"noopener noreferrer\">[Linkedin]</a>**"
   ]
  }
 ],
 "metadata": {
  "kernelspec": {
   "display_name": "Python 3 (ipykernel)",
   "language": "python",
   "name": "python3"
  },
  "language_info": {
   "codemirror_mode": {
    "name": "ipython",
    "version": 3
   },
   "file_extension": ".py",
   "mimetype": "text/x-python",
   "name": "python",
   "nbconvert_exporter": "python",
   "pygments_lexer": "ipython3",
   "version": "3.10.8"
  }
 },
 "nbformat": 4,
 "nbformat_minor": 5
}
